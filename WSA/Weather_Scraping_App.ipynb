{
 "cells": [
  {
   "cell_type": "markdown",
   "id": "5f25335a-be1b-429d-807b-8b149a57857f",
   "metadata": {},
   "source": [
    "# Weather Scraping App (Python Project)"
   ]
  },
  {
   "cell_type": "markdown",
   "id": "98e1f158-8d4b-4191-b598-747809a87ed9",
   "metadata": {},
   "source": [
    "### The goal of this project is to scrape the one-week weather forecast for the 81 provinces of Turkey from the specified weather websites. The scraped data will be stored in a list.\n",
    "### The list can be utilized for saving to any DB chosen (MongoDB for instance)."
   ]
  },
  {
   "cell_type": "markdown",
   "id": "c7f203be-743a-490d-b27d-4ba2eb4a5c77",
   "metadata": {},
   "source": [
    "### Import Reqired Libraries"
   ]
  },
  {
   "cell_type": "code",
   "execution_count": 1,
   "id": "fb76f190-ac34-4b47-b856-49fdb75d6322",
   "metadata": {
    "jupyter": {
     "source_hidden": true
    },
    "tags": []
   },
   "outputs": [],
   "source": [
    "from bs4 import BeautifulSoup\n",
    "from pymongo import MongoClient\n",
    "from pymongo.server_api import ServerApi\n",
    "from datetime import datetime, timedelta, date\n",
    "from tqdm import tqdm\n",
    "import requests\n",
    "import time\n",
    "from concurrent.futures import ThreadPoolExecutor\n",
    "from selenium.common.exceptions import ElementNotInteractableException\n",
    "from selenium.common.exceptions import StaleElementReferenceException\n",
    "from selenium import webdriver\n",
    "from selenium.webdriver.chrome.options import Options\n",
    "import concurrent.futures\n",
    "from webdriver_manager.chrome import ChromeDriverManager\n",
    "from selenium.webdriver.common.keys import Keys\n",
    "from selenium.webdriver.common.by import By\n",
    "from selenium.webdriver.chrome.service import Service\n",
    "from selenium.webdriver.support.ui import WebDriverWait\n",
    "from selenium.webdriver.support import expected_conditions as EC"
   ]
  },
  {
   "cell_type": "markdown",
   "id": "ef824be5-daba-4f64-9415-201035e27430",
   "metadata": {},
   "source": [
    "### Create dictionaries to be utilized"
   ]
  },
  {
   "cell_type": "code",
   "execution_count": 2,
   "id": "c1161f54-21be-475e-a448-da77d7ce54b7",
   "metadata": {
    "jupyter": {
     "source_hidden": true
    },
    "tags": []
   },
   "outputs": [],
   "source": [
    "# Metoffice forecast does not have all 81 of the Turkey's cities so the dictionary below is adjusted accordingly. \n",
    "\n",
    "TR_metoffice = {\n",
    "    '01': 'adana', '02': 'NaN', '03': 'NaN', '04': 'NaN', '05': 'NaN', '06': 'ankara', '07': 'antalya', '08': 'hopa', '09': 'kusadasi', '10': 'NaN',\n",
    "    '11': 'NaN', '12': 'NaN', '13': 'NaN', '14': 'bolu', '15': 'NaN', '16': 'bursa', '17': 'canakkale', '18': 'NaN', '19': 'corum', '20': 'NaN', \n",
    "    '21': 'diyarbakir', '22': 'edirne', '23': 'NaN', '24': 'NaN', '25': 'erzurum', '26': 'NaN', '27': 'gaziantep', '28': 'giresun', \n",
    "    '29': 'gumushane', '30': 'hakkari', '31': 'iskenderun', '32': 'isparta', '33': 'anamur', '34': 'istanbul', '35': 'izmir', '36': 'NaN',\n",
    "    '37': 'kastamonu', '38': 'kayseri', '39': 'NaN', '40': 'kirsehir', '41': 'darica', '42': 'konya', '43': 'kutahya', '44': 'malatya', '45': 'akhisar',\n",
    "    '46': 'NaN','47': 'NaN', '48': 'mugla', '49': 'NaN', '50': 'NaN', '51': 'nigde', '52': 'ordu', '53': 'rize', '54': 'NaN',  '55': 'samsun',\n",
    "    '56': 'NaN', '57': 'sinop', '58': 'sivas', '59': 'tekirdag', '60': 'tokat',\n",
    "    '61': 'trabzon', '62': 'ovacik', '63': 'NaN', '64': 'usak', '65': 'vantur',\n",
    "    '66': 'yozgat', '67': 'zonguldak', '68': 'NaN', '69': 'NaN', '70': 'NaN', '71': 'NaN', '72': 'batman', '73': 'sirnak',\n",
    "    '74': 'NaN','75': 'NaN','76': 'NaN', '77': 'NaN', '78': 'NaN', '79': 'NaN', '80': 'NaN', '81': 'NaN'\n",
    "}\n",
    "\n",
    "TR = {\n",
    "    'adana': '01', 'adiyaman': '02', 'afyonkarahisar': '03', 'agri': '04', 'amasya': '05',\n",
    "    'ankara': '06', 'antalya': '07', 'artvin': '08', 'aydin': '09', 'balikesir': '10',\n",
    "    'bilecik': '11', 'bingol': '12', 'bitlis': '13', 'bolu': '14', 'burdur': '15',\n",
    "    'bursa': '16', 'canakkale': '17', 'cankiri': '18', 'corum': '19', 'denizli': '20',\n",
    "    'diyarbakir': '21', 'edirne': '22', 'elazig': '23', 'erzincan': '24', 'erzurum': '25',\n",
    "    'eskisehir': '26', 'gaziantep': '27', 'giresun': '28', 'gumushane': '29', 'hakkari': '30',\n",
    "    'hatay': '31', 'isparta': '32', 'mersin': '33', 'istanbul': '34', 'izmir': '35',\n",
    "    'kars': '36', 'kastamonu': '37', 'kayseri': '38', 'kirklareli': '39', 'kirsehir': '40',\n",
    "    'kocaeli': '41', 'konya': '42', 'kutahya': '43', 'malatya': '44', 'manisa': '45',\n",
    "    'kahramanmaras': '46', 'mardin': '47', 'mugla': '48', 'mus': '49', 'nevsehir': '50',\n",
    "    'nigde': '51', 'ordu': '52', 'rize': '53', 'sakarya': '54', 'samsun': '55',\n",
    "    'siirt': '56', 'sinop': '57', 'sivas': '58', 'tekirdag': '59', 'tokat': '60',\n",
    "    'trabzon': '61', 'tunceli': '62', 'sanliurfa': '63', 'usak': '64', 'van, van': '65',\n",
    "    'yozgat': '66', 'zonguldak': '67', 'aksaray': '68', 'bayburt': '69', 'karaman': '70',\n",
    "    'kirikkale': '71', 'batman': '72', 'sirnak': '73', 'bartin': '74', 'ardahan': '75',\n",
    "    'igdir': '76', 'yalova': '77', 'karabuk': '78', 'kilis': '79', 'osmaniye': '80',\n",
    "    'duzce': '81'\n",
    "}\n",
    "TR = {v: k for k, v in TR.items()}\n",
    "\n",
    "# Adjust the dictionary so that keys are plate numbers and values are city names."
   ]
  },
  {
   "cell_type": "markdown",
   "id": "4a4c289a-0c34-48ec-85b6-879539cf0524",
   "metadata": {},
   "source": [
    "### Scraping function for WEATHER.COM "
   ]
  },
  {
   "cell_type": "code",
   "execution_count": 3,
   "id": "e2237949-01f8-4657-93ae-2d7a8638125c",
   "metadata": {
    "tags": []
   },
   "outputs": [],
   "source": [
    "def get_weather_weather(city):\n",
    "    Z = []\n",
    "    driver = webdriver.Chrome()\n",
    "    base_url = \"https://weather.com/tr-TR\"\n",
    "    driver.get(base_url)\n",
    "    driver.refresh()\n",
    "    wait = WebDriverWait(driver, 10)\n",
    "    # Make a search with the city's name\n",
    "    search_input = driver.find_element(By.ID, \"LocationSearch_input\")\n",
    "    search_input = wait.until(EC.element_to_be_clickable((By.ID, \"LocationSearch_input\")))\n",
    "    search_input.click()\n",
    "    search_input.send_keys(city)\n",
    "    # Enter city\n",
    "    time.sleep(2)\n",
    "    xity = driver.find_element(By.XPATH, '/html/body/div[1]/div[3]/div[1]/header/div/div[2]/div[1]/form/div/div[2]/div[2]/button[1]')\n",
    "    xity.send_keys(Keys.ENTER)   \n",
    "    # Select ten days forecasting\n",
    "    time.sleep(1)\n",
    "    tendays = driver.find_element(By.XPATH, '//*[@id=\"WxuLocalsuiteNav-header-71dadf79-621d-43ff-9a1a-d99a39f16abe\"]/div/nav/div/div[1]/a[3]')\n",
    "    tendays.click()\n",
    "    soup = BeautifulSoup(driver.page_source, \"lxml\")\n",
    "    for day in range(0,7):\n",
    "        if day == 0:\n",
    "            weather = soup.find_all(\"details\", class_ = \"DaypartDetails--DayPartDetail--2XOOV Disclosure--themeList--1Dz21 DaypartDetails--openDisclosure--9wY9b DaypartDetails--openDisclosureDesktop--1FSB5\")\n",
    "            high = weather[day].find(\"span\", class_ = \"DetailsSummary--highTempValue--3PjlX\").get_text()[0:-1]\n",
    "            low = float(weather[day].find(\"span\", class_ = \"DetailsSummary--lowTempValue--2tesQ\").get_text()[0:-1]) \n",
    "\n",
    "            if high == \"-\":  # So in the website, when you try to get the data at night, the today's day temperature is not present\n",
    "                high = weather[day].find(\"span\", class_ = \"DetailsSummary--highTempValue--3PjlX\").get_text()[0:-1]\n",
    "            else:\n",
    "                high = float(weather[day].find(\"span\", class_ = \"DetailsSummary--highTempValue--3PjlX\").get_text()[0:-1])\n",
    "\n",
    "        elif day == 1:\n",
    "            weather = soup.find_all(\"details\", class_ = \"DaypartDetails--DayPartDetail--2XOOV DaypartDetails--enablePreviousBorder--2B1p5 Disclosure--themeList--1Dz21 Disclosure--disableBorder--3Np63\")\n",
    "            high = float(weather[day-1].find(\"span\", class_ = \"DetailsSummary--highTempValue--3PjlX\").get_text()[0:-1])\n",
    "            low = float(weather[day-1].find(\"span\", class_ = \"DetailsSummary--lowTempValue--2tesQ\").get_text()[0:-1])\n",
    "\n",
    "        else:\n",
    "            weather = soup.find_all(\"details\", class_ = \"DaypartDetails--DayPartDetail--2XOOV Disclosure--themeList--1Dz21\")\n",
    "            high = float(weather[day-2].find(\"span\", class_ = \"DetailsSummary--highTempValue--3PjlX\").get_text()[0:-1])\n",
    "            low = float(weather[day-2].find(\"span\", class_ = \"DetailsSummary--lowTempValue--2tesQ\").get_text()[0:-1])\n",
    "\n",
    "        Z_day = [high, low]\n",
    "        Z.append(Z_day)\n",
    "        \n",
    "    driver.quit()\n",
    "    return Z\n",
    "\n",
    "\n"
   ]
  },
  {
   "cell_type": "markdown",
   "id": "f6b99929-9a1e-4353-ac33-7e30b8faad08",
   "metadata": {},
   "source": [
    "### Scraping function for METOFFICE"
   ]
  },
  {
   "cell_type": "code",
   "execution_count": 4,
   "id": "e72a638e-00f1-402b-990b-2ea255ca0848",
   "metadata": {
    "jupyter": {
     "source_hidden": true
    },
    "tags": []
   },
   "outputs": [],
   "source": [
    "def get_weather_metoffice(city):  \n",
    "    X = []\n",
    "    if city != 'NaN':    \n",
    "        driver = webdriver.Chrome()\n",
    "        base_url = \"https://www.metoffice.gov.uk/weather/world/turkey/\"\n",
    "        driver.get(base_url)\n",
    "        search_input = driver.find_element(By.ID, \"location-search-input\")\n",
    "        search_input.send_keys(Keys.CONTROL, \"a\")\n",
    "        search_input.send_keys(Keys.BACKSPACE)\n",
    "        search_input.send_keys(city)\n",
    "        time.sleep(1)\n",
    "        search_input.send_keys(Keys.RETURN)\n",
    "        soup = BeautifulSoup(driver.page_source, \"lxml\")\n",
    "        for day in range(0,7):\n",
    "            if day < 6:\n",
    "                metoffice = soup.find_all(\"li\", class_ = \"forecast-tab\")\n",
    "                high = float(metoffice[day].find(\"span\", class_ = \"tab-temp-high\").get_text()[0:-1])\n",
    "                low = float(metoffice[day].find(\"span\", class_ = \"tab-temp-low\").get_text()[0:-1])\n",
    "                X_day = [high, low]\n",
    "            else:\n",
    "                metoffice = soup.find_all(\"li\", class_ = \"forecast-tab\")     \n",
    "                high = metoffice[day].find(\"span\", class_ = \"tab-temp-high\")\n",
    "\n",
    "                if high is None:\n",
    "                    X_day = (\"NaN\",\"NaN\") \n",
    "\n",
    "                else:\n",
    "                    high = float(metoffice[day].find(\"span\", class_ = \"tab-temp-high\").get_text()[0:-1])\n",
    "                    low = float(metoffice[day].find(\"span\", class_ = \"tab-temp-low\").get_text()[0:-1])\n",
    "                    X_day = [high, low]\n",
    "            X.append(X_day)\n",
    "        driver.quit()\n",
    "    else:\n",
    "        for day in range(0,7):\n",
    "            X_day = [\"NaN\", \"NaN\"]\n",
    "            X.append(X_day)\n",
    "    \n",
    "    return X"
   ]
  },
  {
   "cell_type": "markdown",
   "id": "d341e220-c64f-49fe-9b05-e60881eb5452",
   "metadata": {},
   "source": [
    "### Scraping function for HAVADURUMUX"
   ]
  },
  {
   "cell_type": "code",
   "execution_count": 5,
   "id": "1a9f2cab-d705-463e-a6cd-1252e12d78a0",
   "metadata": {
    "jupyter": {
     "source_hidden": true
    },
    "tags": []
   },
   "outputs": [],
   "source": [
    "def get_weather_havadurumux(city):\n",
    "    Y = []\n",
    "    base_url = \"https://www.havadurumux.net/\"\n",
    "    url = f\"{base_url}{city.lower()}-hava-durumu/\"\n",
    "    \n",
    "    header = {\"User-Agent\": \"Mozilla/5.0 (Windows NT 10.0; Win64; x64) AppleWebKit/537.36 (KHTML, like Gecko) Chrome/118.0.0.0 Safari/537.36 OPR/104.0.0.0\"}\n",
    "    r_havadurumux = requests.get(url, headers = header)\n",
    "    \n",
    "    soup = BeautifulSoup(r_havadurumux.content, \"lxml\")\n",
    "    havadurumux = soup.find_all(\"tr\")\n",
    "    # index 2: high\n",
    "    # index 3: low\n",
    "    for day in range(0,7):\n",
    "        high = float(havadurumux[day+1].select(\"td\")[2].get_text()[0:-1])\n",
    "        low = float(havadurumux[day+1].select(\"td\")[3].get_text()[0:-1])\n",
    "        Y_day = [high, low]          \n",
    "        Y.append(Y_day)\n",
    "    \n",
    "    return Y"
   ]
  },
  {
   "cell_type": "markdown",
   "id": "df032126-3127-4929-bac7-7f0a6aa72530",
   "metadata": {},
   "source": [
    "### Create a function to get wether data of a week for the given city"
   ]
  },
  {
   "cell_type": "code",
   "execution_count": 6,
   "id": "69949820-d698-4471-9a98-ffe9f3b56272",
   "metadata": {
    "tags": []
   },
   "outputs": [],
   "source": [
    "DB = []\n",
    "\n",
    "def get_weather(plt, cty):\n",
    "\n",
    "    if cty not in TR_metoffice.values():\n",
    "        X = get_weather_havadurumux(cty)\n",
    "        Y = get_weather_metoffice(\"NaN\")\n",
    "        Z = get_weather_weather(cty)\n",
    "    else:\n",
    "        X = get_weather_havadurumux(cty)\n",
    "        Y = get_weather_metoffice(cty)\n",
    "        Z = get_weather_weather(cty)\n",
    "    for day in range(0,7):\n",
    "        dt = date.today() + timedelta(days = day)\n",
    "        weatherapp = {\n",
    "            'provincial_plate': plt,\n",
    "            'date': datetime.combine(dt, datetime.min.time()),\n",
    "            'weather': {\n",
    "                \"metoffice\": {'up': Y[day][0], 'low': Y[day][1]},\n",
    "                \"weather_com\": {'up': Z[day][0], 'low': Z[day][1]},\n",
    "                \"havadurumux\": {'up': X[day][0], 'low': X[day][1]},\n",
    "            }\n",
    "        }\n",
    "\n",
    "        DB.append(weatherapp)\n",
    "    print(f\"{cty}({plt}) Saved!\")"
   ]
  },
  {
   "cell_type": "markdown",
   "id": "5f93f585-9044-45ca-bf24-f23f4628d8e7",
   "metadata": {},
   "source": [
    "### Threading Process"
   ]
  },
  {
   "cell_type": "code",
   "execution_count": null,
   "id": "2794c9d2-3e70-467a-a3a5-114722a3ccce",
   "metadata": {
    "jupyter": {
     "source_hidden": true
    },
    "tags": []
   },
   "outputs": [
    {
     "name": "stdout",
     "output_type": "stream",
     "text": [
      "afyonkarahisar(03) Saved!\n",
      "adiyaman(02) Saved!\n",
      "adana(01) Saved!\n",
      "amasya(05) Saved!\n",
      "agri(04) Saved!\n"
     ]
    }
   ],
   "source": [
    "max_workers = 3 # Adjust the number of workers\n",
    "max_retries =3 # Adjust the number of max trials in case of an error\n",
    "\n",
    "with ThreadPoolExecutor(max_workers=max_workers) as executor:\n",
    "    futures = []\n",
    "    for plt, cty in TR.items():\n",
    "        retry_count = 0\n",
    "        while retry_count < max_retries:\n",
    "            try:\n",
    "                # Submit the task to the executor\n",
    "                future = executor.submit(get_weather, plt, cty)\n",
    "                futures.append(future)\n",
    "                break\n",
    "            except Exception as e:\n",
    "                print(f\"An error occurred for: {cty} retrying...\")\n",
    "                retry_count +=1 \n",
    "    #wait futures to complete\n",
    "    for future in concurrent.futures.as_completed(futures):\n",
    "        retry = 0\n",
    "        while retry < max_retries:\n",
    "            try:\n",
    "                future.result()\n",
    "            except Exception as e:\n",
    "                print(f\"An error occurred retrying...{e}\")\n",
    "                retry += 1"
   ]
  },
  {
   "cell_type": "markdown",
   "id": "50dbe050-8e4f-4d57-8c98-55770e329277",
   "metadata": {},
   "source": [
    "### Print the results  (Optional)"
   ]
  },
  {
   "cell_type": "code",
   "execution_count": null,
   "id": "56c8b240-b697-4602-a63b-46e3a12df599",
   "metadata": {},
   "outputs": [],
   "source": [
    "print(DB)"
   ]
  }
 ],
 "metadata": {
  "kernelspec": {
   "display_name": "Python 3 (ipykernel)",
   "language": "python",
   "name": "python3"
  },
  "language_info": {
   "codemirror_mode": {
    "name": "ipython",
    "version": 3
   },
   "file_extension": ".py",
   "mimetype": "text/x-python",
   "name": "python",
   "nbconvert_exporter": "python",
   "pygments_lexer": "ipython3",
   "version": "3.11.5"
  }
 },
 "nbformat": 4,
 "nbformat_minor": 5
}
